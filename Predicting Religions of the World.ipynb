{
 "cells": [
  {
   "cell_type": "markdown",
   "metadata": {},
   "source": [
    "## Predicting the Religion based on the features of the Country and their Country Flags "
   ]
  },
  {
   "cell_type": "markdown",
   "metadata": {},
   "source": [
    "### DataSource\n",
    "\n",
    "The dataset for this study was extracted from the University of California Irvine’s Machine Learning Repository. The dataset was created by Richard S. Forsyth. Mr. Forsyth collected data for the flag dataset primarily from “Collins Gem Guide to Flags”: Collins Publishers (1986).\n",
    "\n",
    "Link - https://archive.ics.uci.edu/ml/datasets/Flags"
   ]
  },
  {
   "cell_type": "markdown",
   "metadata": {},
   "source": [
    "#### Attribute Information\n",
    "\n",
    "- 1 => name: Name of the country concerned \n",
    "- 2 => landmass: 1=N.America, 2=S.America, 3=Europe, 4=Africa, 5=Asia, 6=Oceania \n",
    "- 3 => zone: Geographic quadrant, based on Greenwich and the Equator; 1=NE, 2=SE, 3=SW, 4=NW \n",
    "- 4 => area: in thousands of square km \n",
    "- 5 => population: in round millions \n",
    "- 6 => language: 1=English, 2=Spanish, 3=French, 4=German, 5=Slavic, 6=Other Indo-European, 7=Chinese, 8=Arabic, 9=Japanese/Turkish/Finnish/Magyar, 10=Others \n",
    "- 7 => religion: 0=Catholic, 1=Other Christian, 2=Muslim, 3=Buddhist, 4=Hindu, 5=Ethnic, 6=Marxist, 7=Others \n",
    "- 8 => bars: Number of vertical bars in the flag \n",
    "- 9 => stripes: Number of horizontal stripes in the flag \n",
    "- 10 => colours: Number of different colours in the flag \n",
    "- 11 => red: 0 if red absent, 1 if red present in the flag \n",
    "- 12 => green: same for green \n",
    "- 13 => blue: same for blue \n",
    "- 14 => gold: same for gold (also yellow) \n",
    "- 15 => white: same for white \n",
    "- 16 => black: same for black \n",
    "- 17 => orange: same for orange (also brown) \n",
    "- 18 => mainhue: predominant colour in the flag (tie-breaks decided by taking the topmost hue, if that fails then the most central hue, and if that fails the leftmost hue) \n",
    "- 19 => circles: Number of circles in the flag \n",
    "- 20 => crosses: Number of (upright) crosses \n",
    "- 21 => saltires: Number of diagonal crosses \n",
    "- 22 => quarters: Number of quartered sections \n",
    "- 23 => sunstars: Number of sun or star symbols \n",
    "- 24 => crescent: 1 if a crescent moon symbol present, else 0 \n",
    "- 25 => triangle: 1 if any triangles present, 0 otherwise \n",
    "- 26 => icon: 1 if an inanimate image present (e.g., a boat), otherwise 0 \n",
    "- 27 => animate: 1 if an animate image (e.g., an eagle, a tree, a human hand) present, 0 otherwise \n",
    "- 28 => text: 1 if any letters or writing on the flag (e.g., a motto or slogan), 0 otherwise \n",
    "- 29 => topleft: colour in the top-left corner (moving right to decide tie-breaks) \n",
    "- 30 => botright: Colour in the bottom-left corner (moving left to decide tie-breaks)"
   ]
  },
  {
   "cell_type": "markdown",
   "metadata": {},
   "source": [
    "#### Target Variable\n",
    "\n",
    "'Religion' is the dependent variable and it can take below labels\n",
    "- 0 = Catholic \n",
    "- 1 = Other Christian \n",
    "- 2 = Muslim \n",
    "- 3 = Buddhist \n",
    "- 4 = Hindu \n",
    "- 5 = Ethnic \n",
    "- 6 = Marxist \n",
    "- 7 = Others "
   ]
  },
  {
   "cell_type": "code",
   "execution_count": 233,
   "metadata": {
    "collapsed": true
   },
   "outputs": [],
   "source": [
    "# Importing the necessary libraries for Data Analysing, Data Visualizing, Data Preppping & Model Building \n",
    "\n",
    "import pandas as pd\n",
    "import numpy as np\n",
    "import math\n",
    "\n",
    "import matplotlib.pyplot as plt\n",
    "import seaborn as sns\n",
    "from sklearn.manifold import TSNE\n",
    "from mpl_toolkits.mplot3d import Axes3D\n",
    "%matplotlib inline\n",
    "\n",
    "import warnings\n",
    "warnings.filterwarnings('ignore')\n",
    "from sklearn.preprocessing import LabelEncoder \n",
    "from sklearn.preprocessing import StandardScaler\n",
    "\n",
    "from sklearn.linear_model import LogisticRegression\n",
    "from sklearn.naive_bayes import GaussianNB\n",
    "from sklearn.tree import DecisionTreeClassifier\n",
    "from sklearn.ensemble import RandomForestClassifier\n",
    "from sklearn.ensemble import GradientBoostingClassifier\n",
    "from sklearn.svm import SVC\n",
    "from sklearn.decomposition import PCA\n",
    "from sklearn.cluster import KMeans\n",
    "\n",
    "from sklearn.cross_validation import train_test_split\n",
    "from sklearn.model_selection import GridSearchCV, cross_val_score\n",
    "from sklearn.metrics import confusion_matrix, accuracy_score, pairwise_distances"
   ]
  },
  {
   "cell_type": "code",
   "execution_count": 312,
   "metadata": {
    "collapsed": true
   },
   "outputs": [],
   "source": [
    "# Loading the Training dataset\n",
    "train = pd.read_csv(\"flags_train.csv\", names=[\"country\", \"landmass\", \"zone\", \"area\", \"population\", \"language\", \"religion\", \"vertical_bars\", \"horizontal_stripes\", \"total_colors\", \"red\", \"green\", \"blue\", \"gold\", \"white\", \"black\", \"orange\", \"mainhue\", \"circles\", \"crosses\", \"saltires\", \"quarters\", \"sunstars\", \"crescent\", \"triangle\", \"icon\", \"animate\", \"text\", \"top_left\", \"bottom_right\"])"
   ]
  },
  {
   "cell_type": "markdown",
   "metadata": {},
   "source": [
    "### Exploratory Data Analysis"
   ]
  },
  {
   "cell_type": "markdown",
   "metadata": {},
   "source": [
    "- Performed univariate analysis\n",
    "- performed multivariate analysis\n",
    "- One hot encoding applied\n",
    "- Removed useless features"
   ]
  },
  {
   "cell_type": "code",
   "execution_count": 235,
   "metadata": {},
   "outputs": [
    {
     "data": {
      "text/html": [
       "<div>\n",
       "<table border=\"1\" class=\"dataframe\">\n",
       "  <thead>\n",
       "    <tr style=\"text-align: right;\">\n",
       "      <th></th>\n",
       "      <th>country</th>\n",
       "      <th>landmass</th>\n",
       "      <th>zone</th>\n",
       "      <th>area</th>\n",
       "      <th>population</th>\n",
       "      <th>language</th>\n",
       "      <th>religion</th>\n",
       "      <th>vertical_bars</th>\n",
       "      <th>horizontal_stripes</th>\n",
       "      <th>total_colors</th>\n",
       "      <th>...</th>\n",
       "      <th>saltires</th>\n",
       "      <th>quarters</th>\n",
       "      <th>sunstars</th>\n",
       "      <th>crescent</th>\n",
       "      <th>triangle</th>\n",
       "      <th>icon</th>\n",
       "      <th>animate</th>\n",
       "      <th>text</th>\n",
       "      <th>top_left</th>\n",
       "      <th>bottom_right</th>\n",
       "    </tr>\n",
       "  </thead>\n",
       "  <tbody>\n",
       "    <tr>\n",
       "      <th>0</th>\n",
       "      <td>Afghanistan</td>\n",
       "      <td>5</td>\n",
       "      <td>1</td>\n",
       "      <td>648</td>\n",
       "      <td>16</td>\n",
       "      <td>10</td>\n",
       "      <td>2</td>\n",
       "      <td>0</td>\n",
       "      <td>3</td>\n",
       "      <td>5</td>\n",
       "      <td>...</td>\n",
       "      <td>0</td>\n",
       "      <td>0</td>\n",
       "      <td>1</td>\n",
       "      <td>0</td>\n",
       "      <td>0</td>\n",
       "      <td>1</td>\n",
       "      <td>0</td>\n",
       "      <td>0</td>\n",
       "      <td>black</td>\n",
       "      <td>green</td>\n",
       "    </tr>\n",
       "    <tr>\n",
       "      <th>1</th>\n",
       "      <td>Albania</td>\n",
       "      <td>3</td>\n",
       "      <td>1</td>\n",
       "      <td>29</td>\n",
       "      <td>3</td>\n",
       "      <td>6</td>\n",
       "      <td>6</td>\n",
       "      <td>0</td>\n",
       "      <td>0</td>\n",
       "      <td>3</td>\n",
       "      <td>...</td>\n",
       "      <td>0</td>\n",
       "      <td>0</td>\n",
       "      <td>1</td>\n",
       "      <td>0</td>\n",
       "      <td>0</td>\n",
       "      <td>0</td>\n",
       "      <td>1</td>\n",
       "      <td>0</td>\n",
       "      <td>red</td>\n",
       "      <td>red</td>\n",
       "    </tr>\n",
       "    <tr>\n",
       "      <th>2</th>\n",
       "      <td>Algeria</td>\n",
       "      <td>4</td>\n",
       "      <td>1</td>\n",
       "      <td>2388</td>\n",
       "      <td>20</td>\n",
       "      <td>8</td>\n",
       "      <td>2</td>\n",
       "      <td>2</td>\n",
       "      <td>0</td>\n",
       "      <td>3</td>\n",
       "      <td>...</td>\n",
       "      <td>0</td>\n",
       "      <td>0</td>\n",
       "      <td>1</td>\n",
       "      <td>1</td>\n",
       "      <td>0</td>\n",
       "      <td>0</td>\n",
       "      <td>0</td>\n",
       "      <td>0</td>\n",
       "      <td>green</td>\n",
       "      <td>white</td>\n",
       "    </tr>\n",
       "    <tr>\n",
       "      <th>3</th>\n",
       "      <td>American-Samoa</td>\n",
       "      <td>6</td>\n",
       "      <td>3</td>\n",
       "      <td>0</td>\n",
       "      <td>0</td>\n",
       "      <td>1</td>\n",
       "      <td>1</td>\n",
       "      <td>0</td>\n",
       "      <td>0</td>\n",
       "      <td>5</td>\n",
       "      <td>...</td>\n",
       "      <td>0</td>\n",
       "      <td>0</td>\n",
       "      <td>0</td>\n",
       "      <td>0</td>\n",
       "      <td>1</td>\n",
       "      <td>1</td>\n",
       "      <td>1</td>\n",
       "      <td>0</td>\n",
       "      <td>blue</td>\n",
       "      <td>red</td>\n",
       "    </tr>\n",
       "    <tr>\n",
       "      <th>4</th>\n",
       "      <td>Andorra</td>\n",
       "      <td>3</td>\n",
       "      <td>1</td>\n",
       "      <td>0</td>\n",
       "      <td>0</td>\n",
       "      <td>6</td>\n",
       "      <td>0</td>\n",
       "      <td>3</td>\n",
       "      <td>0</td>\n",
       "      <td>3</td>\n",
       "      <td>...</td>\n",
       "      <td>0</td>\n",
       "      <td>0</td>\n",
       "      <td>0</td>\n",
       "      <td>0</td>\n",
       "      <td>0</td>\n",
       "      <td>0</td>\n",
       "      <td>0</td>\n",
       "      <td>0</td>\n",
       "      <td>blue</td>\n",
       "      <td>red</td>\n",
       "    </tr>\n",
       "  </tbody>\n",
       "</table>\n",
       "<p>5 rows × 30 columns</p>\n",
       "</div>"
      ],
      "text/plain": [
       "          country  landmass  zone  area  population  language  religion  \\\n",
       "0     Afghanistan         5     1   648          16        10         2   \n",
       "1         Albania         3     1    29           3         6         6   \n",
       "2         Algeria         4     1  2388          20         8         2   \n",
       "3  American-Samoa         6     3     0           0         1         1   \n",
       "4         Andorra         3     1     0           0         6         0   \n",
       "\n",
       "   vertical_bars  horizontal_stripes  total_colors      ...       saltires  \\\n",
       "0              0                   3             5      ...              0   \n",
       "1              0                   0             3      ...              0   \n",
       "2              2                   0             3      ...              0   \n",
       "3              0                   0             5      ...              0   \n",
       "4              3                   0             3      ...              0   \n",
       "\n",
       "   quarters  sunstars  crescent  triangle  icon  animate text  top_left  \\\n",
       "0         0         1         0         0     1        0    0     black   \n",
       "1         0         1         0         0     0        1    0       red   \n",
       "2         0         1         1         0     0        0    0     green   \n",
       "3         0         0         0         1     1        1    0      blue   \n",
       "4         0         0         0         0     0        0    0      blue   \n",
       "\n",
       "   bottom_right  \n",
       "0         green  \n",
       "1           red  \n",
       "2         white  \n",
       "3           red  \n",
       "4           red  \n",
       "\n",
       "[5 rows x 30 columns]"
      ]
     },
     "execution_count": 235,
     "metadata": {},
     "output_type": "execute_result"
    }
   ],
   "source": [
    "# Exploring the structure of the dataset\n",
    "train.head()"
   ]
  },
  {
   "cell_type": "code",
   "execution_count": 313,
   "metadata": {
    "collapsed": true
   },
   "outputs": [],
   "source": [
    "# Dropping 'Country' as it is not going to be helpful to our model\n",
    "train_df = train.drop(['country'], axis=1)"
   ]
  },
  {
   "cell_type": "code",
   "execution_count": 237,
   "metadata": {},
   "outputs": [
    {
     "data": {
      "text/plain": [
       "(194, 29)"
      ]
     },
     "execution_count": 237,
     "metadata": {},
     "output_type": "execute_result"
    }
   ],
   "source": [
    "# Shape of the dataset\n",
    "train_df.shape"
   ]
  },
  {
   "cell_type": "code",
   "execution_count": 238,
   "metadata": {},
   "outputs": [
    {
     "name": "stdout",
     "output_type": "stream",
     "text": [
      "<class 'pandas.core.frame.DataFrame'>\n",
      "RangeIndex: 194 entries, 0 to 193\n",
      "Data columns (total 29 columns):\n",
      "landmass              194 non-null int64\n",
      "zone                  194 non-null int64\n",
      "area                  194 non-null int64\n",
      "population            194 non-null int64\n",
      "language              194 non-null int64\n",
      "religion              194 non-null int64\n",
      "vertical_bars         194 non-null int64\n",
      "horizontal_stripes    194 non-null int64\n",
      "total_colors          194 non-null int64\n",
      "red                   194 non-null int64\n",
      "green                 194 non-null int64\n",
      "blue                  194 non-null int64\n",
      "gold                  194 non-null int64\n",
      "white                 194 non-null int64\n",
      "black                 194 non-null int64\n",
      "orange                194 non-null int64\n",
      "mainhue               194 non-null object\n",
      "circles               194 non-null int64\n",
      "crosses               194 non-null int64\n",
      "saltires              194 non-null int64\n",
      "quarters              194 non-null int64\n",
      "sunstars              194 non-null int64\n",
      "crescent              194 non-null int64\n",
      "triangle              194 non-null int64\n",
      "icon                  194 non-null int64\n",
      "animate               194 non-null int64\n",
      "text                  194 non-null int64\n",
      "top_left              194 non-null object\n",
      "bottom_right          194 non-null object\n",
      "dtypes: int64(26), object(3)\n",
      "memory usage: 44.0+ KB\n"
     ]
    }
   ],
   "source": [
    "# Checking the information of the dataset\n",
    "train_df.info()"
   ]
  },
  {
   "cell_type": "code",
   "execution_count": 239,
   "metadata": {},
   "outputs": [
    {
     "data": {
      "text/html": [
       "<div>\n",
       "<table border=\"1\" class=\"dataframe\">\n",
       "  <thead>\n",
       "    <tr style=\"text-align: right;\">\n",
       "      <th></th>\n",
       "      <th>landmass</th>\n",
       "      <th>zone</th>\n",
       "      <th>area</th>\n",
       "      <th>population</th>\n",
       "      <th>language</th>\n",
       "      <th>religion</th>\n",
       "      <th>vertical_bars</th>\n",
       "      <th>horizontal_stripes</th>\n",
       "      <th>total_colors</th>\n",
       "      <th>red</th>\n",
       "      <th>...</th>\n",
       "      <th>circles</th>\n",
       "      <th>crosses</th>\n",
       "      <th>saltires</th>\n",
       "      <th>quarters</th>\n",
       "      <th>sunstars</th>\n",
       "      <th>crescent</th>\n",
       "      <th>triangle</th>\n",
       "      <th>icon</th>\n",
       "      <th>animate</th>\n",
       "      <th>text</th>\n",
       "    </tr>\n",
       "  </thead>\n",
       "  <tbody>\n",
       "    <tr>\n",
       "      <th>count</th>\n",
       "      <td>194.000000</td>\n",
       "      <td>194.000000</td>\n",
       "      <td>194.000000</td>\n",
       "      <td>194.000000</td>\n",
       "      <td>194.000000</td>\n",
       "      <td>194.000000</td>\n",
       "      <td>194.000000</td>\n",
       "      <td>194.000000</td>\n",
       "      <td>194.000000</td>\n",
       "      <td>194.000000</td>\n",
       "      <td>...</td>\n",
       "      <td>194.000000</td>\n",
       "      <td>194.000000</td>\n",
       "      <td>194.000000</td>\n",
       "      <td>194.000000</td>\n",
       "      <td>194.000000</td>\n",
       "      <td>194.000000</td>\n",
       "      <td>194.000000</td>\n",
       "      <td>194.000000</td>\n",
       "      <td>194.000000</td>\n",
       "      <td>194.000000</td>\n",
       "    </tr>\n",
       "    <tr>\n",
       "      <th>mean</th>\n",
       "      <td>3.572165</td>\n",
       "      <td>2.211340</td>\n",
       "      <td>700.046392</td>\n",
       "      <td>23.268041</td>\n",
       "      <td>5.340206</td>\n",
       "      <td>2.190722</td>\n",
       "      <td>0.453608</td>\n",
       "      <td>1.551546</td>\n",
       "      <td>3.463918</td>\n",
       "      <td>0.788660</td>\n",
       "      <td>...</td>\n",
       "      <td>0.170103</td>\n",
       "      <td>0.149485</td>\n",
       "      <td>0.092784</td>\n",
       "      <td>0.149485</td>\n",
       "      <td>1.386598</td>\n",
       "      <td>0.056701</td>\n",
       "      <td>0.139175</td>\n",
       "      <td>0.252577</td>\n",
       "      <td>0.201031</td>\n",
       "      <td>0.082474</td>\n",
       "    </tr>\n",
       "    <tr>\n",
       "      <th>std</th>\n",
       "      <td>1.553018</td>\n",
       "      <td>1.308274</td>\n",
       "      <td>2170.927932</td>\n",
       "      <td>91.934085</td>\n",
       "      <td>3.496517</td>\n",
       "      <td>2.061167</td>\n",
       "      <td>1.038339</td>\n",
       "      <td>2.328005</td>\n",
       "      <td>1.300154</td>\n",
       "      <td>0.409315</td>\n",
       "      <td>...</td>\n",
       "      <td>0.463075</td>\n",
       "      <td>0.385387</td>\n",
       "      <td>0.290879</td>\n",
       "      <td>0.435860</td>\n",
       "      <td>4.396186</td>\n",
       "      <td>0.231869</td>\n",
       "      <td>0.347025</td>\n",
       "      <td>0.435615</td>\n",
       "      <td>0.401808</td>\n",
       "      <td>0.275798</td>\n",
       "    </tr>\n",
       "    <tr>\n",
       "      <th>min</th>\n",
       "      <td>1.000000</td>\n",
       "      <td>1.000000</td>\n",
       "      <td>0.000000</td>\n",
       "      <td>0.000000</td>\n",
       "      <td>1.000000</td>\n",
       "      <td>0.000000</td>\n",
       "      <td>0.000000</td>\n",
       "      <td>0.000000</td>\n",
       "      <td>1.000000</td>\n",
       "      <td>0.000000</td>\n",
       "      <td>...</td>\n",
       "      <td>0.000000</td>\n",
       "      <td>0.000000</td>\n",
       "      <td>0.000000</td>\n",
       "      <td>0.000000</td>\n",
       "      <td>0.000000</td>\n",
       "      <td>0.000000</td>\n",
       "      <td>0.000000</td>\n",
       "      <td>0.000000</td>\n",
       "      <td>0.000000</td>\n",
       "      <td>0.000000</td>\n",
       "    </tr>\n",
       "    <tr>\n",
       "      <th>25%</th>\n",
       "      <td>3.000000</td>\n",
       "      <td>1.000000</td>\n",
       "      <td>9.000000</td>\n",
       "      <td>0.000000</td>\n",
       "      <td>2.000000</td>\n",
       "      <td>1.000000</td>\n",
       "      <td>0.000000</td>\n",
       "      <td>0.000000</td>\n",
       "      <td>3.000000</td>\n",
       "      <td>1.000000</td>\n",
       "      <td>...</td>\n",
       "      <td>0.000000</td>\n",
       "      <td>0.000000</td>\n",
       "      <td>0.000000</td>\n",
       "      <td>0.000000</td>\n",
       "      <td>0.000000</td>\n",
       "      <td>0.000000</td>\n",
       "      <td>0.000000</td>\n",
       "      <td>0.000000</td>\n",
       "      <td>0.000000</td>\n",
       "      <td>0.000000</td>\n",
       "    </tr>\n",
       "    <tr>\n",
       "      <th>50%</th>\n",
       "      <td>4.000000</td>\n",
       "      <td>2.000000</td>\n",
       "      <td>111.000000</td>\n",
       "      <td>4.000000</td>\n",
       "      <td>6.000000</td>\n",
       "      <td>1.000000</td>\n",
       "      <td>0.000000</td>\n",
       "      <td>0.000000</td>\n",
       "      <td>3.000000</td>\n",
       "      <td>1.000000</td>\n",
       "      <td>...</td>\n",
       "      <td>0.000000</td>\n",
       "      <td>0.000000</td>\n",
       "      <td>0.000000</td>\n",
       "      <td>0.000000</td>\n",
       "      <td>0.000000</td>\n",
       "      <td>0.000000</td>\n",
       "      <td>0.000000</td>\n",
       "      <td>0.000000</td>\n",
       "      <td>0.000000</td>\n",
       "      <td>0.000000</td>\n",
       "    </tr>\n",
       "    <tr>\n",
       "      <th>75%</th>\n",
       "      <td>5.000000</td>\n",
       "      <td>4.000000</td>\n",
       "      <td>471.250000</td>\n",
       "      <td>14.000000</td>\n",
       "      <td>9.000000</td>\n",
       "      <td>4.000000</td>\n",
       "      <td>0.000000</td>\n",
       "      <td>3.000000</td>\n",
       "      <td>4.000000</td>\n",
       "      <td>1.000000</td>\n",
       "      <td>...</td>\n",
       "      <td>0.000000</td>\n",
       "      <td>0.000000</td>\n",
       "      <td>0.000000</td>\n",
       "      <td>0.000000</td>\n",
       "      <td>1.000000</td>\n",
       "      <td>0.000000</td>\n",
       "      <td>0.000000</td>\n",
       "      <td>0.750000</td>\n",
       "      <td>0.000000</td>\n",
       "      <td>0.000000</td>\n",
       "    </tr>\n",
       "    <tr>\n",
       "      <th>max</th>\n",
       "      <td>6.000000</td>\n",
       "      <td>4.000000</td>\n",
       "      <td>22402.000000</td>\n",
       "      <td>1008.000000</td>\n",
       "      <td>10.000000</td>\n",
       "      <td>7.000000</td>\n",
       "      <td>5.000000</td>\n",
       "      <td>14.000000</td>\n",
       "      <td>8.000000</td>\n",
       "      <td>1.000000</td>\n",
       "      <td>...</td>\n",
       "      <td>4.000000</td>\n",
       "      <td>2.000000</td>\n",
       "      <td>1.000000</td>\n",
       "      <td>4.000000</td>\n",
       "      <td>50.000000</td>\n",
       "      <td>1.000000</td>\n",
       "      <td>1.000000</td>\n",
       "      <td>1.000000</td>\n",
       "      <td>1.000000</td>\n",
       "      <td>1.000000</td>\n",
       "    </tr>\n",
       "  </tbody>\n",
       "</table>\n",
       "<p>8 rows × 26 columns</p>\n",
       "</div>"
      ],
      "text/plain": [
       "         landmass        zone          area   population    language  \\\n",
       "count  194.000000  194.000000    194.000000   194.000000  194.000000   \n",
       "mean     3.572165    2.211340    700.046392    23.268041    5.340206   \n",
       "std      1.553018    1.308274   2170.927932    91.934085    3.496517   \n",
       "min      1.000000    1.000000      0.000000     0.000000    1.000000   \n",
       "25%      3.000000    1.000000      9.000000     0.000000    2.000000   \n",
       "50%      4.000000    2.000000    111.000000     4.000000    6.000000   \n",
       "75%      5.000000    4.000000    471.250000    14.000000    9.000000   \n",
       "max      6.000000    4.000000  22402.000000  1008.000000   10.000000   \n",
       "\n",
       "         religion  vertical_bars  horizontal_stripes  total_colors  \\\n",
       "count  194.000000     194.000000          194.000000    194.000000   \n",
       "mean     2.190722       0.453608            1.551546      3.463918   \n",
       "std      2.061167       1.038339            2.328005      1.300154   \n",
       "min      0.000000       0.000000            0.000000      1.000000   \n",
       "25%      1.000000       0.000000            0.000000      3.000000   \n",
       "50%      1.000000       0.000000            0.000000      3.000000   \n",
       "75%      4.000000       0.000000            3.000000      4.000000   \n",
       "max      7.000000       5.000000           14.000000      8.000000   \n",
       "\n",
       "              red     ...         circles     crosses    saltires    quarters  \\\n",
       "count  194.000000     ...      194.000000  194.000000  194.000000  194.000000   \n",
       "mean     0.788660     ...        0.170103    0.149485    0.092784    0.149485   \n",
       "std      0.409315     ...        0.463075    0.385387    0.290879    0.435860   \n",
       "min      0.000000     ...        0.000000    0.000000    0.000000    0.000000   \n",
       "25%      1.000000     ...        0.000000    0.000000    0.000000    0.000000   \n",
       "50%      1.000000     ...        0.000000    0.000000    0.000000    0.000000   \n",
       "75%      1.000000     ...        0.000000    0.000000    0.000000    0.000000   \n",
       "max      1.000000     ...        4.000000    2.000000    1.000000    4.000000   \n",
       "\n",
       "         sunstars    crescent    triangle        icon     animate        text  \n",
       "count  194.000000  194.000000  194.000000  194.000000  194.000000  194.000000  \n",
       "mean     1.386598    0.056701    0.139175    0.252577    0.201031    0.082474  \n",
       "std      4.396186    0.231869    0.347025    0.435615    0.401808    0.275798  \n",
       "min      0.000000    0.000000    0.000000    0.000000    0.000000    0.000000  \n",
       "25%      0.000000    0.000000    0.000000    0.000000    0.000000    0.000000  \n",
       "50%      0.000000    0.000000    0.000000    0.000000    0.000000    0.000000  \n",
       "75%      1.000000    0.000000    0.000000    0.750000    0.000000    0.000000  \n",
       "max     50.000000    1.000000    1.000000    1.000000    1.000000    1.000000  \n",
       "\n",
       "[8 rows x 26 columns]"
      ]
     },
     "execution_count": 239,
     "metadata": {},
     "output_type": "execute_result"
    }
   ],
   "source": [
    "# Running Descriptive Stats for Continous variables\n",
    "train_df.describe()"
   ]
  },
  {
   "cell_type": "code",
   "execution_count": 240,
   "metadata": {},
   "outputs": [
    {
     "data": {
      "text/html": [
       "<div>\n",
       "<table border=\"1\" class=\"dataframe\">\n",
       "  <thead>\n",
       "    <tr style=\"text-align: right;\">\n",
       "      <th></th>\n",
       "      <th>mainhue</th>\n",
       "      <th>top_left</th>\n",
       "      <th>bottom_right</th>\n",
       "    </tr>\n",
       "  </thead>\n",
       "  <tbody>\n",
       "    <tr>\n",
       "      <th>count</th>\n",
       "      <td>194</td>\n",
       "      <td>194</td>\n",
       "      <td>194</td>\n",
       "    </tr>\n",
       "    <tr>\n",
       "      <th>unique</th>\n",
       "      <td>8</td>\n",
       "      <td>7</td>\n",
       "      <td>8</td>\n",
       "    </tr>\n",
       "    <tr>\n",
       "      <th>top</th>\n",
       "      <td>red</td>\n",
       "      <td>red</td>\n",
       "      <td>red</td>\n",
       "    </tr>\n",
       "    <tr>\n",
       "      <th>freq</th>\n",
       "      <td>71</td>\n",
       "      <td>56</td>\n",
       "      <td>69</td>\n",
       "    </tr>\n",
       "  </tbody>\n",
       "</table>\n",
       "</div>"
      ],
      "text/plain": [
       "       mainhue top_left bottom_right\n",
       "count      194      194          194\n",
       "unique       8        7            8\n",
       "top        red      red          red\n",
       "freq        71       56           69"
      ]
     },
     "execution_count": 240,
     "metadata": {},
     "output_type": "execute_result"
    }
   ],
   "source": [
    "# Running Descriptive Stats for Categorical variables\n",
    "train_df.describe(include=['O'])"
   ]
  },
  {
   "cell_type": "code",
   "execution_count": 241,
   "metadata": {},
   "outputs": [
    {
     "data": {
      "text/plain": [
       "landmass              0\n",
       "zone                  0\n",
       "area                  0\n",
       "population            0\n",
       "language              0\n",
       "religion              0\n",
       "vertical_bars         0\n",
       "horizontal_stripes    0\n",
       "total_colors          0\n",
       "red                   0\n",
       "green                 0\n",
       "blue                  0\n",
       "gold                  0\n",
       "white                 0\n",
       "black                 0\n",
       "orange                0\n",
       "mainhue               0\n",
       "circles               0\n",
       "crosses               0\n",
       "saltires              0\n",
       "quarters              0\n",
       "sunstars              0\n",
       "crescent              0\n",
       "triangle              0\n",
       "icon                  0\n",
       "animate               0\n",
       "text                  0\n",
       "top_left              0\n",
       "bottom_right          0\n",
       "dtype: int64"
      ]
     },
     "execution_count": 241,
     "metadata": {},
     "output_type": "execute_result"
    }
   ],
   "source": [
    "# Checking the Null values in dataset\n",
    "train_df.isnull().sum()"
   ]
  },
  {
   "cell_type": "markdown",
   "metadata": {},
   "source": [
    "### Note: Most of the visualizations are inspired from multiple sources like Kaggle, Udemy, Udacity etc"
   ]
  },
  {
   "cell_type": "code",
   "execution_count": 242,
   "metadata": {},
   "outputs": [
    {
     "data": {
      "text/plain": [
       "1    60\n",
       "0    40\n",
       "2    36\n",
       "5    27\n",
       "6    15\n",
       "3     8\n",
       "7     4\n",
       "4     4\n",
       "Name: religion, dtype: int64"
      ]
     },
     "execution_count": 242,
     "metadata": {},
     "output_type": "execute_result"
    }
   ],
   "source": [
    "# Finding out the value counts for each Religion\n",
    "train_df['religion'].value_counts()"
   ]
  },
  {
   "cell_type": "code",
   "execution_count": 243,
   "metadata": {},
   "outputs": [
    {
     "data": {
      "text/plain": [
       "1    0.309278\n",
       "0    0.206186\n",
       "2    0.185567\n",
       "5    0.139175\n",
       "6    0.077320\n",
       "3    0.041237\n",
       "7    0.020619\n",
       "4    0.020619\n",
       "Name: religion, dtype: float64"
      ]
     },
     "execution_count": 243,
     "metadata": {},
     "output_type": "execute_result"
    }
   ],
   "source": [
    "# Finding out the percentage of value counts for each Religion\n",
    "train_df['religion'].value_counts()/len(train_df)"
   ]
  },
  {
   "cell_type": "code",
   "execution_count": 244,
   "metadata": {},
   "outputs": [
    {
     "data": {
      "text/plain": [
       "<matplotlib.text.Text at 0x12400b5c0>"
      ]
     },
     "execution_count": 244,
     "metadata": {},
     "output_type": "execute_result"
    },
    {
     "data": {
      "image/png": "[encoded data removed]",
      "text/plain": [
       "<matplotlib.figure.Figure at 0x123fcb940>"
      ]
     },
     "metadata": {},
     "output_type": "display_data"
    }
   ],
   "source": [
    "# Plotting against Countries and Religions\n",
    "ax = sns.countplot(x='religion', order=[1,2,3,4,5,6,7,8], data=train_df)\n",
    "ax.set_title('Comparison plot of Countries and their Religions')\n",
    "ax.set_xlabel('Religion')\n",
    "ax.set_ylabel('No. of Countries')"
   ]
  },
  {
   "cell_type": "code",
   "execution_count": 245,
   "metadata": {},
   "outputs": [
    {
     "data": {
      "text/plain": [
       "red       71\n",
       "blue      40\n",
       "green     31\n",
       "white     22\n",
       "gold      19\n",
       "black      5\n",
       "orange     4\n",
       "brown      2\n",
       "Name: mainhue, dtype: int64"
      ]
     },
     "execution_count": 245,
     "metadata": {},
     "output_type": "execute_result"
    }
   ],
   "source": [
    "# Finding out the value counts for 'mainhue'\n",
    "train_df['mainhue'].value_counts()"
   ]
  },
  {
   "cell_type": "code",
   "execution_count": 246,
   "metadata": {},
   "outputs": [
    {
     "data": {
      "text/plain": [
       "red       0.365979\n",
       "blue      0.206186\n",
       "green     0.159794\n",
       "white     0.113402\n",
       "gold      0.097938\n",
       "black     0.025773\n",
       "orange    0.020619\n",
       "brown     0.010309\n",
       "Name: mainhue, dtype: float64"
      ]
     },
     "execution_count": 246,
     "metadata": {},
     "output_type": "execute_result"
    }
   ],
   "source": [
    "# Finding out the percentage of value counts in 'mainhue'\n",
    "train_df['mainhue'].value_counts()/len(train_df)"
   ]
  },
  {
   "cell_type": "code",
   "execution_count": 247,
   "metadata": {},
   "outputs": [
    {
     "data": {
      "text/plain": [
       "<matplotlib.text.Text at 0x12407d4a8>"
      ]
     },
     "execution_count": 247,
     "metadata": {},
     "output_type": "execute_result"
    },
    {
     "data": {
      "image/png": "[encoded data removed]",
      "text/plain": [
       "<matplotlib.figure.Figure at 0x124072ba8>"
      ]
     },
     "metadata": {},
     "output_type": "display_data"
    }
   ],
   "source": [
    "# Plotting against Countries and MainHue of the Flags\n",
    "mseries = train_df['mainhue'].value_counts()\n",
    "df = pd.DataFrame({'mainhue':mseries, 'count':mseries.values})\n",
    "\n",
    "ax = df['count'].plot(kind='barh', title='Comparison plot of Countries and their MainHue if the Flags')\n",
    "\n",
    "ax.set_ylabel('MainHue of the Flag')\n",
    "ax.set_xlabel('No. of Countries')"
   ]
  },
  {
   "cell_type": "code",
   "execution_count": 248,
   "metadata": {},
   "outputs": [
    {
     "data": {
      "text/plain": [
       "red       56\n",
       "blue      43\n",
       "white     41\n",
       "green     32\n",
       "black     12\n",
       "gold       6\n",
       "orange     4\n",
       "Name: top_left, dtype: int64"
      ]
     },
     "execution_count": 248,
     "metadata": {},
     "output_type": "execute_result"
    }
   ],
   "source": [
    "# Finding out the value counts for 'top_left'\n",
    "train_df['top_left'].value_counts()"
   ]
  },
  {
   "cell_type": "code",
   "execution_count": 249,
   "metadata": {},
   "outputs": [
    {
     "data": {
      "text/plain": [
       "red       0.288660\n",
       "blue      0.221649\n",
       "white     0.211340\n",
       "green     0.164948\n",
       "black     0.061856\n",
       "gold      0.030928\n",
       "orange    0.020619\n",
       "Name: top_left, dtype: float64"
      ]
     },
     "execution_count": 249,
     "metadata": {},
     "output_type": "execute_result"
    }
   ],
   "source": [
    "# Finding out the percentage of value counts in 'top_left'\n",
    "train_df['top_left'].value_counts()/len(train_df)"
   ]
  },
  {
   "cell_type": "code",
   "execution_count": 250,
   "metadata": {},
   "outputs": [
    {
     "data": {
      "text/plain": [
       "<matplotlib.text.Text at 0x124097748>"
      ]
     },
     "execution_count": 250,
     "metadata": {},
     "output_type": "execute_result"
    },
    {
     "data": {
      "image/png": "[encoded data removed]",
      "text/plain": [
       "<matplotlib.figure.Figure at 0x11d73b080>"
      ]
     },
     "metadata": {},
     "output_type": "display_data"
    }
   ],
   "source": [
    "# Plotting against Countries and TopLeft Color of the Flags\n",
    "tseries = train_df['top_left'].value_counts()\n",
    "df2 = pd.DataFrame({'topleft':tseries, 'count':tseries.values})\n",
    "\n",
    "ax = df2['count'].plot(kind='barh', title='Comparison plot of Countries and their TopLeft Color of the Flags')\n",
    "\n",
    "ax.set_ylabel('TopLeft Color of the Flag')\n",
    "ax.set_xlabel('No. of Countries')"
   ]
  },
  {
   "cell_type": "code",
   "execution_count": 251,
   "metadata": {},
   "outputs": [
    {
     "data": {
      "text/plain": [
       "red       69\n",
       "blue      47\n",
       "green     40\n",
       "white     17\n",
       "black      9\n",
       "gold       9\n",
       "brown      2\n",
       "orange     1\n",
       "Name: bottom_right, dtype: int64"
      ]
     },
     "execution_count": 251,
     "metadata": {},
     "output_type": "execute_result"
    }
   ],
   "source": [
    "# Finding out the value counts for 'bottom_right'\n",
    "train_df['bottom_right'].value_counts()"
   ]
  },
  {
   "cell_type": "code",
   "execution_count": 252,
   "metadata": {},
   "outputs": [
    {
     "data": {
      "text/plain": [
       "red       0.355670\n",
       "blue      0.242268\n",
       "green     0.206186\n",
       "white     0.087629\n",
       "black     0.046392\n",
       "gold      0.046392\n",
       "brown     0.010309\n",
       "orange    0.005155\n",
       "Name: bottom_right, dtype: float64"
      ]
     },
     "execution_count": 252,
     "metadata": {},
     "output_type": "execute_result"
    }
   ],
   "source": [
    "# Finding out the percentage of value counts in 'bottom_right'\n",
    "train_df['bottom_right'].value_counts()/len(train_df)"
   ]
  },
  {
   "cell_type": "code",
   "execution_count": 329,
   "metadata": {},
   "outputs": [
    {
     "data": {
      "text/plain": [
       "<matplotlib.text.Text at 0x12659f2b0>"
      ]
     },
     "execution_count": 329,
     "metadata": {},
     "output_type": "execute_result"
    },
    {
     "data": {
      "image/png": "[encoded data removed]",
      "text/plain": [
       "<matplotlib.figure.Figure at 0x12658af28>"
      ]
     },
     "metadata": {},
     "output_type": "display_data"
    }
   ],
   "source": [
    "# Plotting against Countries and BottomRight Color of the Flags\n",
    "bseries = train_df['bottom_right'].value_counts()\n",
    "df2 = pd.DataFrame({'bottomright':bseries, 'count':bseries.values})\n",
    "\n",
    "ax = df2['count'].plot(kind='barh', title='Comparison plot of Countries and their BottomRight Color of the Flags')\n",
    "\n",
    "ax.set_ylabel('BottomRight Color of the Flag')\n",
    "ax.set_xlabel('No. of Countries')"
   ]
  },
  {
   "cell_type": "code",
   "execution_count": 254,
   "metadata": {},
   "outputs": [
    {
     "data": {
      "text/plain": [
       "10    46\n",
       "1     43\n",
       "6     30\n",
       "2     21\n",
       "8     19\n",
       "3     17\n",
       "4      6\n",
       "9      4\n",
       "7      4\n",
       "5      4\n",
       "Name: language, dtype: int64"
      ]
     },
     "execution_count": 254,
     "metadata": {},
     "output_type": "execute_result"
    }
   ],
   "source": [
    "# Finding out the value counts for 'language'\n",
    "train_df['language'].value_counts()"
   ]
  },
  {
   "cell_type": "code",
   "execution_count": 255,
   "metadata": {},
   "outputs": [
    {
     "data": {
      "text/plain": [
       "10    0.237113\n",
       "1     0.221649\n",
       "6     0.154639\n",
       "2     0.108247\n",
       "8     0.097938\n",
       "3     0.087629\n",
       "4     0.030928\n",
       "9     0.020619\n",
       "7     0.020619\n",
       "5     0.020619\n",
       "Name: language, dtype: float64"
      ]
     },
     "execution_count": 255,
     "metadata": {},
     "output_type": "execute_result"
    }
   ],
   "source": [
    "# Finding out the percentage of value counts in 'language'\n",
    "train_df['language'].value_counts()/len(train_df)"
   ]
  },
  {
   "cell_type": "code",
   "execution_count": 256,
   "metadata": {},
   "outputs": [
    {
     "data": {
      "text/plain": [
       "<matplotlib.text.Text at 0x1244d36a0>"
      ]
     },
     "execution_count": 256,
     "metadata": {},
     "output_type": "execute_result"
    },
    {
     "data": {
      "image/png": "[encoded data removed]",
      "text/plain": [
       "<matplotlib.figure.Figure at 0x124495ac8>"
      ]
     },
     "metadata": {},
     "output_type": "display_data"
    }
   ],
   "source": [
    "# Plotting against Countries and their Languages\n",
    "ax = sns.countplot(x='language', order=[1,2,3,4,5,6,7,8,9,10], data=train_df)\n",
    "ax.set_title('Comparison plot of Countries and their Languages')\n",
    "ax.set_xlabel('Language')\n",
    "ax.set_ylabel('No. of Countries')"
   ]
  },
  {
   "cell_type": "code",
   "execution_count": 257,
   "metadata": {},
   "outputs": [
    {
     "name": "stdout",
     "output_type": "stream",
     "text": [
      "religion   0   1   2  3  4   5   6  7  All\n",
      "landmass                                  \n",
      "1          9  21   0  0  0   0   1  0   31\n",
      "2         13   3   0  0  1   0   0  0   17\n",
      "3         14  13   0  0  0   0   8  0   35\n",
      "4          2   7  15  0  1  26   0  1   52\n",
      "5          0   0  20  8  2   0   6  3   39\n",
      "6          2  16   1  0  0   1   0  0   20\n",
      "All       40  60  36  8  4  27  15  4  194\n"
     ]
    }
   ],
   "source": [
    "# Taking the Cross Tabulation of Landmass and Religion\n",
    "ct1 = pd.crosstab(train_df['landmass'], train_df['religion'], margins=True)\n",
    "print(ct1)"
   ]
  },
  {
   "cell_type": "code",
   "execution_count": 258,
   "metadata": {},
   "outputs": [
    {
     "data": {
      "text/plain": [
       "<matplotlib.axes._subplots.AxesSubplot at 0x1241cf9b0>"
      ]
     },
     "execution_count": 258,
     "metadata": {},
     "output_type": "execute_result"
    },
    {
     "data": {
      "image/png": "[encoded data removed]",
      "text/plain": [
       "<matplotlib.figure.Figure at 0x124602518>"
      ]
     },
     "metadata": {},
     "output_type": "display_data"
    }
   ],
   "source": [
    "# Plotting against Landmass and Religion\n",
    "ct1.iloc[:-1,:-1].plot(kind='bar', stacked=True, grid=False, figsize=(8,6))"
   ]
  },
  {
   "cell_type": "code",
   "execution_count": 259,
   "metadata": {},
   "outputs": [
    {
     "data": {
      "text/plain": [
       "<seaborn.axisgrid.FacetGrid at 0x1241add68>"
      ]
     },
     "execution_count": 259,
     "metadata": {},
     "output_type": "execute_result"
    },
    {
     "data": {
      "image/png": "[encoded data removed]",
      "text/plain": [
       "<matplotlib.figure.Figure at 0x124648cf8>"
      ]
     },
     "metadata": {},
     "output_type": "display_data"
    }
   ],
   "source": [
    "# Another plot to understand the religion spread across the landmass with the population\n",
    "sns.lmplot(data=train_df, x='landmass', y='population', hue='religion', fit_reg=False, size=8)"
   ]
  },
  {
   "cell_type": "code",
   "execution_count": 260,
   "metadata": {},
   "outputs": [
    {
     "name": "stdout",
     "output_type": "stream",
     "text": [
      "religion   0   1   2  3  4   5   6  7  All\n",
      "landmass                                  \n",
      "1          9  21   0  0  0   0   1  0   31\n",
      "2         13   3   0  0  1   0   0  0   17\n",
      "3         14  13   0  0  0   0   8  0   35\n",
      "4          2   7  15  0  1  26   0  1   52\n",
      "5          0   0  20  8  2   0   6  3   39\n",
      "6          2  16   1  0  0   1   0  0   20\n",
      "All       40  60  36  8  4  27  15  4  194\n"
     ]
    }
   ],
   "source": [
    "# Taking the Cross Tabulation of Landmass and Religion\n",
    "ct2 = pd.crosstab(train_df['zone'], train_df['religion'], margins=True)\n",
    "print(ct1)"
   ]
  },
  {
   "cell_type": "code",
   "execution_count": 261,
   "metadata": {},
   "outputs": [
    {
     "data": {
      "text/plain": [
       "<matplotlib.axes._subplots.AxesSubplot at 0x124a7ca58>"
      ]
     },
     "execution_count": 261,
     "metadata": {},
     "output_type": "execute_result"
    },
    {
     "data": {
      "image/png": "[encoded data removed]",
      "text/plain": [
       "<matplotlib.figure.Figure at 0x1248370f0>"
      ]
     },
     "metadata": {},
     "output_type": "display_data"
    }
   ],
   "source": [
    "# Plotting against Landmass and Religion\n",
    "ct2.iloc[:-1,:-1].plot(kind='bar', stacked=True, grid=False, figsize=(8,6))"
   ]
  },
  {
   "cell_type": "code",
   "execution_count": 262,
   "metadata": {},
   "outputs": [
    {
     "data": {
      "text/plain": [
       "<seaborn.axisgrid.FacetGrid at 0x124a7c438>"
      ]
     },
     "execution_count": 262,
     "metadata": {},
     "output_type": "execute_result"
    },
    {
     "data": {
      "image/png": "[encoded data removed]",
      "text/plain": [
       "<matplotlib.figure.Figure at 0x124ddbf60>"
      ]
     },
     "metadata": {},
     "output_type": "display_data"
    }
   ],
   "source": [
    "# Another plot to understand the religion spread across the zone with the area\n",
    "sns.lmplot(data=train_df, x='zone', y='area', hue='religion', fit_reg=False, size=8)"
   ]
  },
  {
   "cell_type": "markdown",
   "metadata": {},
   "source": [
    "### Outlier Detection"
   ]
  },
  {
   "cell_type": "code",
   "execution_count": 263,
   "metadata": {},
   "outputs": [
    {
     "data": {
      "text/plain": [
       "<matplotlib.text.Text at 0x12534b7f0>"
      ]
     },
     "execution_count": 263,
     "metadata": {},
     "output_type": "execute_result"
    },
    {
     "data": {
      "image/png": "[encoded data removed]",
      "text/plain": [
       "<matplotlib.figure.Figure at 0x125057c50>"
      ]
     },
     "metadata": {},
     "output_type": "display_data"
    }
   ],
   "source": [
    "train_df.area.hist(bins=20).set_title(\"Histogram of Area\")"
   ]
  },
  {
   "cell_type": "code",
   "execution_count": 264,
   "metadata": {},
   "outputs": [
    {
     "data": {
      "text/plain": [
       "<matplotlib.text.Text at 0x1254a4dd8>"
      ]
     },
     "execution_count": 264,
     "metadata": {},
     "output_type": "execute_result"
    },
    {
     "data": {
      "image/png": "[encoded data removed]",
      "text/plain": [
       "<matplotlib.figure.Figure at 0x123fd6668>"
      ]
     },
     "metadata": {},
     "output_type": "display_data"
    }
   ],
   "source": [
    "# Plotting Religion against Area\n",
    "train_df.plot('religion', 'area', kind='scatter').set_title('Religion against Area')"
   ]
  },
  {
   "cell_type": "code",
   "execution_count": 265,
   "metadata": {},
   "outputs": [
    {
     "data": {
      "text/plain": [
       "<matplotlib.text.Text at 0x12553c9b0>"
      ]
     },
     "execution_count": 265,
     "metadata": {},
     "output_type": "execute_result"
    },
    {
     "data": {
      "image/png": "[encoded data removed]",
      "text/plain": [
       "<matplotlib.figure.Figure at 0x125512908>"
      ]
     },
     "metadata": {},
     "output_type": "display_data"
    }
   ],
   "source": [
    "train_df.population.hist(bins=10).set_title(\"Histogram of population\")"
   ]
  },
  {
   "cell_type": "code",
   "execution_count": 266,
   "metadata": {},
   "outputs": [
    {
     "data": {
      "text/plain": [
       "<matplotlib.text.Text at 0x1256d94e0>"
      ]
     },
     "execution_count": 266,
     "metadata": {},
     "output_type": "execute_result"
    },
    {
     "data": {
      "image/png": "[encoded data removed]",
      "text/plain": [
       "<matplotlib.figure.Figure at 0x1254f2eb8>"
      ]
     },
     "metadata": {},
     "output_type": "display_data"
    }
   ],
   "source": [
    "# Plotting Religion against Population\n",
    "train_df.plot('religion', 'population', kind='scatter').set_title('Religion against Population')"
   ]
  },
  {
   "cell_type": "code",
   "execution_count": 267,
   "metadata": {},
   "outputs": [
    {
     "data": {
      "text/plain": [
       "<matplotlib.text.Text at 0x1257d95c0>"
      ]
     },
     "execution_count": 267,
     "metadata": {},
     "output_type": "execute_result"
    },
    {
     "data": {
      "image/png": "[encoded data removed]",
      "text/plain": [
       "<matplotlib.figure.Figure at 0x125741a20>"
      ]
     },
     "metadata": {},
     "output_type": "display_data"
    }
   ],
   "source": [
    "train_df.sunstars.hist(bins=20).set_title(\"Histogram of SunStars\")"
   ]
  },
  {
   "cell_type": "code",
   "execution_count": 268,
   "metadata": {},
   "outputs": [
    {
     "data": {
      "text/plain": [
       "<matplotlib.text.Text at 0x12594a400>"
      ]
     },
     "execution_count": 268,
     "metadata": {},
     "output_type": "execute_result"
    },
    {
     "data": {
      "image/png": "[encoded data removed]",
      "text/plain": [
       "<matplotlib.figure.Figure at 0x12588a3c8>"
      ]
     },
     "metadata": {},
     "output_type": "display_data"
    }
   ],
   "source": [
    "# Plotting Religion against SunStars\n",
    "train_df.plot('religion', 'sunstars', kind='scatter').set_title('Religion against SunStars')"
   ]
  },
  {
   "cell_type": "code",
   "execution_count": 150,
   "metadata": {
    "collapsed": true
   },
   "outputs": [],
   "source": [
    "# Removing the outliers\n",
    "# train_df = train_df[train_df.sunstars < 50]\n",
    "# train_df = train_df[train_df.population < 1008]\n",
    "# train_df = train_df[train_df.area < 22402]"
   ]
  },
  {
   "cell_type": "markdown",
   "metadata": {},
   "source": [
    "### One Hot Encoding"
   ]
  },
  {
   "cell_type": "code",
   "execution_count": 314,
   "metadata": {
    "collapsed": true
   },
   "outputs": [],
   "source": [
    "# Creating a list for categorical variables \n",
    "cat_variables = ['mainhue', 'top_left', 'bottom_right']"
   ]
  },
  {
   "cell_type": "code",
   "execution_count": 315,
   "metadata": {
    "collapsed": true
   },
   "outputs": [],
   "source": [
    "# Converting Categorical variables into Numerical data\n",
    "le = LabelEncoder()\n",
    "\n",
    "for variable in cat_variables:\n",
    "    train_df[variable] = le.fit_transform(train_df[variable])"
   ]
  },
  {
   "cell_type": "code",
   "execution_count": 27,
   "metadata": {
    "collapsed": true
   },
   "outputs": [],
   "source": [
    "# Applying One-hot encoding for the categorical variables\n",
    "# for variable in cat_variables:\n",
    "#     dummies = pd.get_dummies(train_df[variable], prefix=variable)\n",
    "#     train_df = pd.concat([train_df, dummies], axis=1)\n",
    "#     train_df.drop([variable], axis=1, inplace=True)"
   ]
  },
  {
   "cell_type": "code",
   "execution_count": 316,
   "metadata": {
    "collapsed": true
   },
   "outputs": [],
   "source": [
    "# Removing Dependent variable\n",
    "y = train_df.pop('religion')"
   ]
  },
  {
   "cell_type": "markdown",
   "metadata": {},
   "source": [
    "### Prepared a testing dataset myself, for the countries formed after 1990s\n",
    "\n",
    "15 New Countries have become independent with the dissolution of USSR in 1991\n",
    "\n",
    "- 1 = Armenia\n",
    "- 2 = Azerbaijan\n",
    "- 3 = Belarus\n",
    "- 4 = Estonia\n",
    "- 5 = Georgia\n",
    "- 6 = Kazakhstan\n",
    "- 7 = Kyrgyzstan\n",
    "- 8 = Latvia\n",
    "- 9 = Lithuania\n",
    "- 10 = Moldova\n",
    "- 11 = Russia\n",
    "- 12 = Tajikistan\n",
    "- 13 = Turkmenistan\n",
    "- 14 = Ukraine\n",
    "- 15 = Uzbekistan"
   ]
  },
  {
   "cell_type": "markdown",
   "metadata": {},
   "source": [
    "Yugoslavia dissolved into 5 independent countries in the early 1990s\n",
    "\n",
    "- 1 = Slovenia\n",
    "- 2 = Croatia\n",
    "- 3 = Bosnia\n",
    "- 4 = Herzegovina\n",
    "- 5 = Macedonia"
   ]
  },
  {
   "cell_type": "markdown",
   "metadata": {},
   "source": [
    "14 other countries became independent through a variety of causes\n",
    "\n",
    "- 1988, Palestine\n",
    "- 1990, Namibia became independent of South Africa.\n",
    "- 1990, North and South Yemen merged to form a unified Yemen.\n",
    "- 1990, East Germany and West Germany merged to form a unified Germany after the fall of the Iron Curtain.\n",
    "- 1991, The Marshall Islands was part of the Trust Territory of Pacific Islands (administered by the United States) and gained independence as a former colony.\n",
    "- 1991, Micronesia, previously known as the Caroline Islands, became independent from the United States.\n",
    "- 1993, The Czech Republic and Slovakia became independent nations when Czechoslovakia dissolved.\n",
    "- 1993, Eritrea was a part of Ethiopia but seceded and gained independence.\n",
    "- 1994, Palau was part of the Trust Territory of Pacific Islands (administered by the United States) and gained independence as a former colony.\n",
    "- 2002, East Timor (Timor-Leste) declared independence from Portugal in 1975 but did not become independent from Indonesia until 2002.\n",
    "- 2006, Montenegro was part of Serbia and Montenegro (also known as Yugoslavia) but gained independence after a referendum.\n",
    "- 2006, Serbia became its own entity after Montenegro split.\n",
    "- 2008, Kosovo unilaterally declared independence from Serbia.\n",
    "- 2011, South Sudan peacefully seceded from Sudan following a January 2011 referendum. Sudan itself was the first to recognize South Sudan and did so one day early, on July 8, 2011."
   ]
  },
  {
   "cell_type": "code",
   "execution_count": 317,
   "metadata": {
    "collapsed": true
   },
   "outputs": [],
   "source": [
    "# Loading the Testing dataset\n",
    "test = pd.read_csv('flags_test.csv')"
   ]
  },
  {
   "cell_type": "code",
   "execution_count": 283,
   "metadata": {},
   "outputs": [
    {
     "data": {
      "text/html": [
       "<div>\n",
       "<table border=\"1\" class=\"dataframe\">\n",
       "  <thead>\n",
       "    <tr style=\"text-align: right;\">\n",
       "      <th></th>\n",
       "      <th>country</th>\n",
       "      <th>landmass</th>\n",
       "      <th>zone</th>\n",
       "      <th>area</th>\n",
       "      <th>population</th>\n",
       "      <th>language</th>\n",
       "      <th>vertical_bars</th>\n",
       "      <th>horizontal_stripes</th>\n",
       "      <th>total_colors</th>\n",
       "      <th>red</th>\n",
       "      <th>...</th>\n",
       "      <th>saltires</th>\n",
       "      <th>quarters</th>\n",
       "      <th>sunstars</th>\n",
       "      <th>crescent</th>\n",
       "      <th>triangle</th>\n",
       "      <th>icon</th>\n",
       "      <th>animate</th>\n",
       "      <th>text</th>\n",
       "      <th>top_left</th>\n",
       "      <th>bottom_right</th>\n",
       "    </tr>\n",
       "  </thead>\n",
       "  <tbody>\n",
       "    <tr>\n",
       "      <th>0</th>\n",
       "      <td>Armenia</td>\n",
       "      <td>6</td>\n",
       "      <td>1</td>\n",
       "      <td>29</td>\n",
       "      <td>3</td>\n",
       "      <td>10</td>\n",
       "      <td>0</td>\n",
       "      <td>3</td>\n",
       "      <td>3</td>\n",
       "      <td>1</td>\n",
       "      <td>...</td>\n",
       "      <td>0</td>\n",
       "      <td>0</td>\n",
       "      <td>0</td>\n",
       "      <td>0</td>\n",
       "      <td>0</td>\n",
       "      <td>0</td>\n",
       "      <td>0</td>\n",
       "      <td>0</td>\n",
       "      <td>red</td>\n",
       "      <td>orange</td>\n",
       "    </tr>\n",
       "    <tr>\n",
       "      <th>1</th>\n",
       "      <td>Azerbaijan</td>\n",
       "      <td>5</td>\n",
       "      <td>1</td>\n",
       "      <td>86</td>\n",
       "      <td>10</td>\n",
       "      <td>10</td>\n",
       "      <td>0</td>\n",
       "      <td>3</td>\n",
       "      <td>3</td>\n",
       "      <td>1</td>\n",
       "      <td>...</td>\n",
       "      <td>0</td>\n",
       "      <td>0</td>\n",
       "      <td>1</td>\n",
       "      <td>1</td>\n",
       "      <td>0</td>\n",
       "      <td>0</td>\n",
       "      <td>0</td>\n",
       "      <td>0</td>\n",
       "      <td>blue</td>\n",
       "      <td>green</td>\n",
       "    </tr>\n",
       "    <tr>\n",
       "      <th>2</th>\n",
       "      <td>Belarus</td>\n",
       "      <td>3</td>\n",
       "      <td>1</td>\n",
       "      <td>207</td>\n",
       "      <td>10</td>\n",
       "      <td>10</td>\n",
       "      <td>1</td>\n",
       "      <td>2</td>\n",
       "      <td>3</td>\n",
       "      <td>1</td>\n",
       "      <td>...</td>\n",
       "      <td>0</td>\n",
       "      <td>0</td>\n",
       "      <td>0</td>\n",
       "      <td>0</td>\n",
       "      <td>0</td>\n",
       "      <td>1</td>\n",
       "      <td>0</td>\n",
       "      <td>0</td>\n",
       "      <td>red</td>\n",
       "      <td>green</td>\n",
       "    </tr>\n",
       "    <tr>\n",
       "      <th>3</th>\n",
       "      <td>Estonia</td>\n",
       "      <td>3</td>\n",
       "      <td>1</td>\n",
       "      <td>45</td>\n",
       "      <td>1</td>\n",
       "      <td>10</td>\n",
       "      <td>0</td>\n",
       "      <td>3</td>\n",
       "      <td>3</td>\n",
       "      <td>0</td>\n",
       "      <td>...</td>\n",
       "      <td>0</td>\n",
       "      <td>0</td>\n",
       "      <td>0</td>\n",
       "      <td>0</td>\n",
       "      <td>0</td>\n",
       "      <td>0</td>\n",
       "      <td>0</td>\n",
       "      <td>0</td>\n",
       "      <td>blue</td>\n",
       "      <td>white</td>\n",
       "    </tr>\n",
       "    <tr>\n",
       "      <th>4</th>\n",
       "      <td>Kazakhstan</td>\n",
       "      <td>3</td>\n",
       "      <td>1</td>\n",
       "      <td>2724</td>\n",
       "      <td>17</td>\n",
       "      <td>10</td>\n",
       "      <td>1</td>\n",
       "      <td>0</td>\n",
       "      <td>2</td>\n",
       "      <td>0</td>\n",
       "      <td>...</td>\n",
       "      <td>0</td>\n",
       "      <td>0</td>\n",
       "      <td>1</td>\n",
       "      <td>0</td>\n",
       "      <td>0</td>\n",
       "      <td>0</td>\n",
       "      <td>1</td>\n",
       "      <td>0</td>\n",
       "      <td>gold</td>\n",
       "      <td>blue</td>\n",
       "    </tr>\n",
       "  </tbody>\n",
       "</table>\n",
       "<p>5 rows × 29 columns</p>\n",
       "</div>"
      ],
      "text/plain": [
       "      country  landmass  zone  area  population  language  vertical_bars  \\\n",
       "0     Armenia         6     1    29           3        10              0   \n",
       "1  Azerbaijan         5     1    86          10        10              0   \n",
       "2     Belarus         3     1   207          10        10              1   \n",
       "3     Estonia         3     1    45           1        10              0   \n",
       "4  Kazakhstan         3     1  2724          17        10              1   \n",
       "\n",
       "   horizontal_stripes  total_colors  red      ...       saltires  quarters  \\\n",
       "0                   3             3    1      ...              0         0   \n",
       "1                   3             3    1      ...              0         0   \n",
       "2                   2             3    1      ...              0         0   \n",
       "3                   3             3    0      ...              0         0   \n",
       "4                   0             2    0      ...              0         0   \n",
       "\n",
       "   sunstars  crescent  triangle  icon animate  text  top_left  bottom_right  \n",
       "0         0         0         0     0       0     0       red        orange  \n",
       "1         1         1         0     0       0     0      blue         green  \n",
       "2         0         0         0     1       0     0       red         green  \n",
       "3         0         0         0     0       0     0      blue         white  \n",
       "4         1         0         0     0       1     0      gold          blue  \n",
       "\n",
       "[5 rows x 29 columns]"
      ]
     },
     "execution_count": 283,
     "metadata": {},
     "output_type": "execute_result"
    }
   ],
   "source": [
    "# Exploring the structure of the dataset\n",
    "test.head()"
   ]
  },
  {
   "cell_type": "code",
   "execution_count": 318,
   "metadata": {
    "collapsed": true
   },
   "outputs": [],
   "source": [
    "# Dropping 'Country' to match the training dataset\n",
    "test_df = test.drop(['country'], axis=1)"
   ]
  },
  {
   "cell_type": "code",
   "execution_count": 319,
   "metadata": {},
   "outputs": [
    {
     "data": {
      "text/plain": [
       "(33, 28)"
      ]
     },
     "execution_count": 319,
     "metadata": {},
     "output_type": "execute_result"
    }
   ],
   "source": [
    "# Shape of the dataset\n",
    "test_df.shape"
   ]
  },
  {
   "cell_type": "code",
   "execution_count": 286,
   "metadata": {},
   "outputs": [
    {
     "name": "stdout",
     "output_type": "stream",
     "text": [
      "<class 'pandas.core.frame.DataFrame'>\n",
      "RangeIndex: 33 entries, 0 to 32\n",
      "Data columns (total 28 columns):\n",
      "landmass              33 non-null int64\n",
      "zone                  33 non-null int64\n",
      "area                  33 non-null int64\n",
      "population            33 non-null int64\n",
      "language              33 non-null int64\n",
      "vertical_bars         33 non-null int64\n",
      "horizontal_stripes    33 non-null int64\n",
      "total_colors          33 non-null int64\n",
      "red                   33 non-null int64\n",
      "green                 33 non-null int64\n",
      "blue                  33 non-null int64\n",
      "gold                  33 non-null int64\n",
      "white                 33 non-null int64\n",
      "black                 33 non-null int64\n",
      "orange                33 non-null int64\n",
      "mainhue               33 non-null object\n",
      "circles               33 non-null int64\n",
      "crosses               33 non-null int64\n",
      "saltires              33 non-null int64\n",
      "quarters              33 non-null int64\n",
      "sunstars              33 non-null int64\n",
      "crescent              33 non-null int64\n",
      "triangle              33 non-null int64\n",
      "icon                  33 non-null int64\n",
      "animate               33 non-null int64\n",
      "text                  33 non-null int64\n",
      "top_left              33 non-null object\n",
      "bottom_right          33 non-null object\n",
      "dtypes: int64(25), object(3)\n",
      "memory usage: 7.3+ KB\n"
     ]
    }
   ],
   "source": [
    "# Checking the information of the dataset\n",
    "test_df.info()"
   ]
  },
  {
   "cell_type": "code",
   "execution_count": 287,
   "metadata": {},
   "outputs": [
    {
     "data": {
      "text/html": [
       "<div>\n",
       "<table border=\"1\" class=\"dataframe\">\n",
       "  <thead>\n",
       "    <tr style=\"text-align: right;\">\n",
       "      <th></th>\n",
       "      <th>landmass</th>\n",
       "      <th>zone</th>\n",
       "      <th>area</th>\n",
       "      <th>population</th>\n",
       "      <th>language</th>\n",
       "      <th>vertical_bars</th>\n",
       "      <th>horizontal_stripes</th>\n",
       "      <th>total_colors</th>\n",
       "      <th>red</th>\n",
       "      <th>green</th>\n",
       "      <th>...</th>\n",
       "      <th>circles</th>\n",
       "      <th>crosses</th>\n",
       "      <th>saltires</th>\n",
       "      <th>quarters</th>\n",
       "      <th>sunstars</th>\n",
       "      <th>crescent</th>\n",
       "      <th>triangle</th>\n",
       "      <th>icon</th>\n",
       "      <th>animate</th>\n",
       "      <th>text</th>\n",
       "    </tr>\n",
       "  </thead>\n",
       "  <tbody>\n",
       "    <tr>\n",
       "      <th>count</th>\n",
       "      <td>33.000000</td>\n",
       "      <td>33.0</td>\n",
       "      <td>33.000000</td>\n",
       "      <td>33.000000</td>\n",
       "      <td>33.000000</td>\n",
       "      <td>33.000000</td>\n",
       "      <td>33.000000</td>\n",
       "      <td>33.000000</td>\n",
       "      <td>33.000000</td>\n",
       "      <td>33.000000</td>\n",
       "      <td>...</td>\n",
       "      <td>33.000000</td>\n",
       "      <td>33.000000</td>\n",
       "      <td>33.0</td>\n",
       "      <td>33.0</td>\n",
       "      <td>33.000000</td>\n",
       "      <td>33.000000</td>\n",
       "      <td>33.000000</td>\n",
       "      <td>33.000000</td>\n",
       "      <td>33.000000</td>\n",
       "      <td>33.0</td>\n",
       "    </tr>\n",
       "    <tr>\n",
       "      <th>mean</th>\n",
       "      <td>3.909091</td>\n",
       "      <td>1.0</td>\n",
       "      <td>711.333333</td>\n",
       "      <td>11.515152</td>\n",
       "      <td>8.303030</td>\n",
       "      <td>0.242424</td>\n",
       "      <td>1.606061</td>\n",
       "      <td>3.090909</td>\n",
       "      <td>0.727273</td>\n",
       "      <td>0.333333</td>\n",
       "      <td>...</td>\n",
       "      <td>0.030303</td>\n",
       "      <td>0.030303</td>\n",
       "      <td>0.0</td>\n",
       "      <td>0.0</td>\n",
       "      <td>1.575758</td>\n",
       "      <td>0.090909</td>\n",
       "      <td>0.212121</td>\n",
       "      <td>0.242424</td>\n",
       "      <td>0.212121</td>\n",
       "      <td>0.0</td>\n",
       "    </tr>\n",
       "    <tr>\n",
       "      <th>std</th>\n",
       "      <td>1.182255</td>\n",
       "      <td>0.0</td>\n",
       "      <td>2977.169793</td>\n",
       "      <td>25.502599</td>\n",
       "      <td>3.292841</td>\n",
       "      <td>0.613917</td>\n",
       "      <td>1.560036</td>\n",
       "      <td>0.879049</td>\n",
       "      <td>0.452267</td>\n",
       "      <td>0.478714</td>\n",
       "      <td>...</td>\n",
       "      <td>0.174078</td>\n",
       "      <td>0.174078</td>\n",
       "      <td>0.0</td>\n",
       "      <td>0.0</td>\n",
       "      <td>3.102724</td>\n",
       "      <td>0.291937</td>\n",
       "      <td>0.415149</td>\n",
       "      <td>0.435194</td>\n",
       "      <td>0.415149</td>\n",
       "      <td>0.0</td>\n",
       "    </tr>\n",
       "    <tr>\n",
       "      <th>min</th>\n",
       "      <td>3.000000</td>\n",
       "      <td>1.0</td>\n",
       "      <td>1.000000</td>\n",
       "      <td>1.000000</td>\n",
       "      <td>1.000000</td>\n",
       "      <td>0.000000</td>\n",
       "      <td>0.000000</td>\n",
       "      <td>2.000000</td>\n",
       "      <td>0.000000</td>\n",
       "      <td>0.000000</td>\n",
       "      <td>...</td>\n",
       "      <td>0.000000</td>\n",
       "      <td>0.000000</td>\n",
       "      <td>0.0</td>\n",
       "      <td>0.0</td>\n",
       "      <td>0.000000</td>\n",
       "      <td>0.000000</td>\n",
       "      <td>0.000000</td>\n",
       "      <td>0.000000</td>\n",
       "      <td>0.000000</td>\n",
       "      <td>0.0</td>\n",
       "    </tr>\n",
       "    <tr>\n",
       "      <th>25%</th>\n",
       "      <td>3.000000</td>\n",
       "      <td>1.0</td>\n",
       "      <td>20.000000</td>\n",
       "      <td>2.000000</td>\n",
       "      <td>8.000000</td>\n",
       "      <td>0.000000</td>\n",
       "      <td>0.000000</td>\n",
       "      <td>3.000000</td>\n",
       "      <td>0.000000</td>\n",
       "      <td>0.000000</td>\n",
       "      <td>...</td>\n",
       "      <td>0.000000</td>\n",
       "      <td>0.000000</td>\n",
       "      <td>0.0</td>\n",
       "      <td>0.0</td>\n",
       "      <td>0.000000</td>\n",
       "      <td>0.000000</td>\n",
       "      <td>0.000000</td>\n",
       "      <td>0.000000</td>\n",
       "      <td>0.000000</td>\n",
       "      <td>0.0</td>\n",
       "    </tr>\n",
       "    <tr>\n",
       "      <th>50%</th>\n",
       "      <td>3.000000</td>\n",
       "      <td>1.0</td>\n",
       "      <td>52.000000</td>\n",
       "      <td>4.000000</td>\n",
       "      <td>10.000000</td>\n",
       "      <td>0.000000</td>\n",
       "      <td>2.000000</td>\n",
       "      <td>3.000000</td>\n",
       "      <td>1.000000</td>\n",
       "      <td>0.000000</td>\n",
       "      <td>...</td>\n",
       "      <td>0.000000</td>\n",
       "      <td>0.000000</td>\n",
       "      <td>0.0</td>\n",
       "      <td>0.0</td>\n",
       "      <td>0.000000</td>\n",
       "      <td>0.000000</td>\n",
       "      <td>0.000000</td>\n",
       "      <td>0.000000</td>\n",
       "      <td>0.000000</td>\n",
       "      <td>0.0</td>\n",
       "    </tr>\n",
       "    <tr>\n",
       "      <th>75%</th>\n",
       "      <td>5.000000</td>\n",
       "      <td>1.0</td>\n",
       "      <td>143.000000</td>\n",
       "      <td>10.000000</td>\n",
       "      <td>10.000000</td>\n",
       "      <td>0.000000</td>\n",
       "      <td>3.000000</td>\n",
       "      <td>3.000000</td>\n",
       "      <td>1.000000</td>\n",
       "      <td>1.000000</td>\n",
       "      <td>...</td>\n",
       "      <td>0.000000</td>\n",
       "      <td>0.000000</td>\n",
       "      <td>0.0</td>\n",
       "      <td>0.0</td>\n",
       "      <td>1.000000</td>\n",
       "      <td>0.000000</td>\n",
       "      <td>0.000000</td>\n",
       "      <td>0.000000</td>\n",
       "      <td>0.000000</td>\n",
       "      <td>0.0</td>\n",
       "    </tr>\n",
       "    <tr>\n",
       "      <th>max</th>\n",
       "      <td>6.000000</td>\n",
       "      <td>1.0</td>\n",
       "      <td>17075.000000</td>\n",
       "      <td>144.000000</td>\n",
       "      <td>10.000000</td>\n",
       "      <td>3.000000</td>\n",
       "      <td>5.000000</td>\n",
       "      <td>6.000000</td>\n",
       "      <td>1.000000</td>\n",
       "      <td>1.000000</td>\n",
       "      <td>...</td>\n",
       "      <td>1.000000</td>\n",
       "      <td>1.000000</td>\n",
       "      <td>0.0</td>\n",
       "      <td>0.0</td>\n",
       "      <td>12.000000</td>\n",
       "      <td>1.000000</td>\n",
       "      <td>1.000000</td>\n",
       "      <td>1.000000</td>\n",
       "      <td>1.000000</td>\n",
       "      <td>0.0</td>\n",
       "    </tr>\n",
       "  </tbody>\n",
       "</table>\n",
       "<p>8 rows × 25 columns</p>\n",
       "</div>"
      ],
      "text/plain": [
       "        landmass  zone          area  population   language  vertical_bars  \\\n",
       "count  33.000000  33.0     33.000000   33.000000  33.000000      33.000000   \n",
       "mean    3.909091   1.0    711.333333   11.515152   8.303030       0.242424   \n",
       "std     1.182255   0.0   2977.169793   25.502599   3.292841       0.613917   \n",
       "min     3.000000   1.0      1.000000    1.000000   1.000000       0.000000   \n",
       "25%     3.000000   1.0     20.000000    2.000000   8.000000       0.000000   \n",
       "50%     3.000000   1.0     52.000000    4.000000  10.000000       0.000000   \n",
       "75%     5.000000   1.0    143.000000   10.000000  10.000000       0.000000   \n",
       "max     6.000000   1.0  17075.000000  144.000000  10.000000       3.000000   \n",
       "\n",
       "       horizontal_stripes  total_colors        red      green  ...   \\\n",
       "count           33.000000     33.000000  33.000000  33.000000  ...    \n",
       "mean             1.606061      3.090909   0.727273   0.333333  ...    \n",
       "std              1.560036      0.879049   0.452267   0.478714  ...    \n",
       "min              0.000000      2.000000   0.000000   0.000000  ...    \n",
       "25%              0.000000      3.000000   0.000000   0.000000  ...    \n",
       "50%              2.000000      3.000000   1.000000   0.000000  ...    \n",
       "75%              3.000000      3.000000   1.000000   1.000000  ...    \n",
       "max              5.000000      6.000000   1.000000   1.000000  ...    \n",
       "\n",
       "         circles    crosses  saltires  quarters   sunstars   crescent  \\\n",
       "count  33.000000  33.000000      33.0      33.0  33.000000  33.000000   \n",
       "mean    0.030303   0.030303       0.0       0.0   1.575758   0.090909   \n",
       "std     0.174078   0.174078       0.0       0.0   3.102724   0.291937   \n",
       "min     0.000000   0.000000       0.0       0.0   0.000000   0.000000   \n",
       "25%     0.000000   0.000000       0.0       0.0   0.000000   0.000000   \n",
       "50%     0.000000   0.000000       0.0       0.0   0.000000   0.000000   \n",
       "75%     0.000000   0.000000       0.0       0.0   1.000000   0.000000   \n",
       "max     1.000000   1.000000       0.0       0.0  12.000000   1.000000   \n",
       "\n",
       "        triangle       icon    animate  text  \n",
       "count  33.000000  33.000000  33.000000  33.0  \n",
       "mean    0.212121   0.242424   0.212121   0.0  \n",
       "std     0.415149   0.435194   0.415149   0.0  \n",
       "min     0.000000   0.000000   0.000000   0.0  \n",
       "25%     0.000000   0.000000   0.000000   0.0  \n",
       "50%     0.000000   0.000000   0.000000   0.0  \n",
       "75%     0.000000   0.000000   0.000000   0.0  \n",
       "max     1.000000   1.000000   1.000000   0.0  \n",
       "\n",
       "[8 rows x 25 columns]"
      ]
     },
     "execution_count": 287,
     "metadata": {},
     "output_type": "execute_result"
    }
   ],
   "source": [
    "# Running Descriptive Stats for Continous variables\n",
    "test_df.describe()"
   ]
  },
  {
   "cell_type": "code",
   "execution_count": 288,
   "metadata": {},
   "outputs": [
    {
     "data": {
      "text/html": [
       "<div>\n",
       "<table border=\"1\" class=\"dataframe\">\n",
       "  <thead>\n",
       "    <tr style=\"text-align: right;\">\n",
       "      <th></th>\n",
       "      <th>mainhue</th>\n",
       "      <th>top_left</th>\n",
       "      <th>bottom_right</th>\n",
       "    </tr>\n",
       "  </thead>\n",
       "  <tbody>\n",
       "    <tr>\n",
       "      <th>count</th>\n",
       "      <td>33</td>\n",
       "      <td>33</td>\n",
       "      <td>33</td>\n",
       "    </tr>\n",
       "    <tr>\n",
       "      <th>unique</th>\n",
       "      <td>6</td>\n",
       "      <td>6</td>\n",
       "      <td>7</td>\n",
       "    </tr>\n",
       "    <tr>\n",
       "      <th>top</th>\n",
       "      <td>blue</td>\n",
       "      <td>red</td>\n",
       "      <td>blue</td>\n",
       "    </tr>\n",
       "    <tr>\n",
       "      <th>freq</th>\n",
       "      <td>13</td>\n",
       "      <td>13</td>\n",
       "      <td>9</td>\n",
       "    </tr>\n",
       "  </tbody>\n",
       "</table>\n",
       "</div>"
      ],
      "text/plain": [
       "       mainhue top_left bottom_right\n",
       "count       33       33           33\n",
       "unique       6        6            7\n",
       "top       blue      red         blue\n",
       "freq        13       13            9"
      ]
     },
     "execution_count": 288,
     "metadata": {},
     "output_type": "execute_result"
    }
   ],
   "source": [
    "# Running Descriptive Stats for Categorical variables\n",
    "test_df.describe(include=['O'])"
   ]
  },
  {
   "cell_type": "code",
   "execution_count": 289,
   "metadata": {},
   "outputs": [
    {
     "data": {
      "text/plain": [
       "landmass              0\n",
       "zone                  0\n",
       "area                  0\n",
       "population            0\n",
       "language              0\n",
       "vertical_bars         0\n",
       "horizontal_stripes    0\n",
       "total_colors          0\n",
       "red                   0\n",
       "green                 0\n",
       "blue                  0\n",
       "gold                  0\n",
       "white                 0\n",
       "black                 0\n",
       "orange                0\n",
       "mainhue               0\n",
       "circles               0\n",
       "crosses               0\n",
       "saltires              0\n",
       "quarters              0\n",
       "sunstars              0\n",
       "crescent              0\n",
       "triangle              0\n",
       "icon                  0\n",
       "animate               0\n",
       "text                  0\n",
       "top_left              0\n",
       "bottom_right          0\n",
       "dtype: int64"
      ]
     },
     "execution_count": 289,
     "metadata": {},
     "output_type": "execute_result"
    }
   ],
   "source": [
    "# Checking the Null values in dataset\n",
    "test_df.isnull().sum()"
   ]
  },
  {
   "cell_type": "code",
   "execution_count": 320,
   "metadata": {
    "collapsed": true
   },
   "outputs": [],
   "source": [
    "# Creating a list for categorical variables \n",
    "cat_variables = ['mainhue', 'top_left', 'bottom_right']"
   ]
  },
  {
   "cell_type": "code",
   "execution_count": 321,
   "metadata": {
    "collapsed": true
   },
   "outputs": [],
   "source": [
    "# Converting Categorical variables into Numerical data\n",
    "le = LabelEncoder()\n",
    "\n",
    "for variable in cat_variables:\n",
    "    test_df[variable] = le.fit_transform(test_df[variable])"
   ]
  },
  {
   "cell_type": "code",
   "execution_count": 113,
   "metadata": {
    "collapsed": true
   },
   "outputs": [],
   "source": [
    "# Applying One-hot encoding for the categorical variables\n",
    "# for variable in cat_variables:\n",
    "#     dummies = pd.get_dummies(test_df[variable], prefix=variable)\n",
    "#     test_df = pd.concat([test_df, dummies], axis=1)\n",
    "#     test_df.drop([variable], axis=1, inplace=True)"
   ]
  },
  {
   "cell_type": "code",
   "execution_count": 322,
   "metadata": {
    "collapsed": true
   },
   "outputs": [],
   "source": [
    "# Creating train/test split with 70:30 ratio\n",
    "X_train, X_test, y_train, y_test = train_test_split(train_df, y, test_size=0.3, random_state=42)"
   ]
  },
  {
   "cell_type": "markdown",
   "metadata": {},
   "source": [
    "### Multi-Class Classification \n",
    "\n",
    "- Generating predictions from different classifiers using default values \n",
    "- Bagging and Boosting algorithms are giving good results among the other Classifiers"
   ]
  },
  {
   "cell_type": "code",
   "execution_count": 293,
   "metadata": {
    "collapsed": true
   },
   "outputs": [],
   "source": [
    "# Instantiating multiple Classifiers\n",
    "lr = LogisticRegression(penalty='l1')\n",
    "dt = DecisionTreeClassifier()\n",
    "rfc = RandomForestClassifier(n_estimators=100)\n",
    "svm = SVC(kernel='rbf')\n",
    "gnb = GaussianNB()\n",
    "gb = GradientBoostingClassifier(n_estimators=100)"
   ]
  },
  {
   "cell_type": "code",
   "execution_count": 294,
   "metadata": {
    "collapsed": true
   },
   "outputs": [],
   "source": [
    "classifiers = [lr, dt, rfc, svm, gnb, gb]"
   ]
  },
  {
   "cell_type": "code",
   "execution_count": 295,
   "metadata": {},
   "outputs": [
    {
     "name": "stdout",
     "output_type": "stream",
     "text": [
      "accuracy for LogisticRegression(C=1.0, class_weight=None, dual=False, fit_intercept=True,\n",
      "          intercept_scaling=1, max_iter=100, multi_class='ovr', n_jobs=1,\n",
      "          penalty='l1', random_state=None, solver='liblinear', tol=0.0001,\n",
      "          verbose=0, warm_start=False) is:  0.474576271186\n",
      "accuracy for DecisionTreeClassifier(class_weight=None, criterion='gini', max_depth=None,\n",
      "            max_features=None, max_leaf_nodes=None,\n",
      "            min_impurity_split=1e-07, min_samples_leaf=1,\n",
      "            min_samples_split=2, min_weight_fraction_leaf=0.0,\n",
      "            presort=False, random_state=None, splitter='best') is:  0.559322033898\n",
      "accuracy for RandomForestClassifier(bootstrap=True, class_weight=None, criterion='gini',\n",
      "            max_depth=None, max_features='auto', max_leaf_nodes=None,\n",
      "            min_impurity_split=1e-07, min_samples_leaf=1,\n",
      "            min_samples_split=2, min_weight_fraction_leaf=0.0,\n",
      "            n_estimators=100, n_jobs=1, oob_score=False, random_state=None,\n",
      "            verbose=0, warm_start=False) is:  0.694915254237\n",
      "accuracy for SVC(C=1.0, cache_size=200, class_weight=None, coef0=0.0,\n",
      "  decision_function_shape=None, degree=3, gamma='auto', kernel='rbf',\n",
      "  max_iter=-1, probability=False, random_state=None, shrinking=True,\n",
      "  tol=0.001, verbose=False) is:  0.423728813559\n",
      "accuracy for GaussianNB(priors=None) is:  0.338983050847\n",
      "accuracy for GradientBoostingClassifier(criterion='friedman_mse', init=None,\n",
      "              learning_rate=0.1, loss='deviance', max_depth=3,\n",
      "              max_features=None, max_leaf_nodes=None,\n",
      "              min_impurity_split=1e-07, min_samples_leaf=1,\n",
      "              min_samples_split=2, min_weight_fraction_leaf=0.0,\n",
      "              n_estimators=100, presort='auto', random_state=None,\n",
      "              subsample=1.0, verbose=0, warm_start=False) is:  0.677966101695\n"
     ]
    }
   ],
   "source": [
    "# Generating Accuracy Scores for the above Classifiers \n",
    "for model in classifiers:\n",
    "    c = model.fit(X_train, y_train)\n",
    "    a = accuracy_score(y_test, model.predict(X_test))\n",
    "    print('accuracy for', model, 'is: ', a)"
   ]
  },
  {
   "cell_type": "code",
   "execution_count": 296,
   "metadata": {},
   "outputs": [
    {
     "data": {
      "text/plain": [
       "<matplotlib.axes._subplots.AxesSubplot at 0x125b7a438>"
      ]
     },
     "execution_count": 296,
     "metadata": {},
     "output_type": "execute_result"
    },
    {
     "data": {
      "image/png": "[encoded data removed]",
      "text/plain": [
       "<matplotlib.figure.Figure at 0x122b8a550>"
      ]
     },
     "metadata": {},
     "output_type": "display_data"
    }
   ],
   "source": [
    "# Plotting Feature importances for GB Classifier\n",
    "featureimportance = pd.Series(gb.feature_importances_, index=train_df.columns)\n",
    "featureimportance.sort_values(inplace=True)\n",
    "featureimportance.plot(kind='barh', figsize=(10,15))"
   ]
  },
  {
   "cell_type": "markdown",
   "metadata": {},
   "source": [
    "### HyperParameter Tuning"
   ]
  },
  {
   "cell_type": "markdown",
   "metadata": {},
   "source": [
    "- Gradient Boosting Classifier seems to be yielding better results. Hence, we will use the same for the final model\n",
    "- Feature importance plot was generated to understand the importance of all features."
   ]
  },
  {
   "cell_type": "code",
   "execution_count": 297,
   "metadata": {},
   "outputs": [
    {
     "data": {
      "text/plain": [
       "GridSearchCV(cv=None, error_score='raise',\n",
       "       estimator=RandomForestClassifier(bootstrap=True, class_weight=None, criterion='gini',\n",
       "            max_depth=None, max_features='auto', max_leaf_nodes=None,\n",
       "            min_impurity_split=1e-07, min_samples_leaf=1,\n",
       "            min_samples_split=2, min_weight_fraction_leaf=0.0,\n",
       "            n_estimators=100, n_jobs=1, oob_score=False, random_state=None,\n",
       "            verbose=0, warm_start=False),\n",
       "       fit_params={}, iid=True, n_jobs=-1,\n",
       "       param_grid={'max_depth': [None, 5], 'max_features': ['auto', 'sqrt'], 'n_estimators': [100, 500], 'min_samples_split': [3, 5], 'criterion': ['entropy', 'gini']},\n",
       "       pre_dispatch='2*n_jobs', refit=True, return_train_score=True,\n",
       "       scoring='accuracy', verbose=0)"
      ]
     },
     "execution_count": 297,
     "metadata": {},
     "output_type": "execute_result"
    }
   ],
   "source": [
    "# Performing GridSearch to find the best hyperparameters for the RF Classifier\n",
    "rfc_parameters = {'max_depth': [None,5],\n",
    "                  'max_features': ['auto','sqrt'],\n",
    "                  'n_estimators': [100,500],\n",
    "                  'min_samples_split': [3,5],\n",
    "                  'criterion': ['entropy','gini']\n",
    "                  }\n",
    "                  \n",
    "rfc_search = GridSearchCV(estimator=rfc, \n",
    "                           param_grid=rfc_parameters,\n",
    "                           scoring='accuracy',\n",
    "                           n_jobs=-1)\n",
    "\n",
    "# Training the model\n",
    "rfc_search.fit(X_train, y_train)"
   ]
  },
  {
   "cell_type": "code",
   "execution_count": 298,
   "metadata": {},
   "outputs": [
    {
     "data": {
      "text/plain": [
       "0.6962962962962963"
      ]
     },
     "execution_count": 298,
     "metadata": {},
     "output_type": "execute_result"
    }
   ],
   "source": [
    "# Best Score from the search\n",
    "rfc_search.best_score_"
   ]
  },
  {
   "cell_type": "code",
   "execution_count": 299,
   "metadata": {},
   "outputs": [
    {
     "data": {
      "text/plain": [
       "{'criterion': 'gini',\n",
       " 'max_depth': None,\n",
       " 'max_features': 'sqrt',\n",
       " 'min_samples_split': 5,\n",
       " 'n_estimators': 500}"
      ]
     },
     "execution_count": 299,
     "metadata": {},
     "output_type": "execute_result"
    }
   ],
   "source": [
    "# Best Paramters from the search\n",
    "rfc_search.best_params_"
   ]
  },
  {
   "cell_type": "code",
   "execution_count": 300,
   "metadata": {},
   "outputs": [
    {
     "data": {
      "text/plain": [
       "GridSearchCV(cv=None, error_score='raise',\n",
       "       estimator=GradientBoostingClassifier(criterion='friedman_mse', init=None,\n",
       "              learning_rate=0.1, loss='deviance', max_depth=3,\n",
       "              max_features=None, max_leaf_nodes=None,\n",
       "              min_impurity_split=1e-07, min_samples_leaf=1,\n",
       "              min_samples_split=2, min_weight_fraction_leaf=0.0,\n",
       "              n_estimators=100, presort='auto', random_state=None,\n",
       "              subsample=1.0, verbose=0, warm_start=False),\n",
       "       fit_params={}, iid=True, n_jobs=-1,\n",
       "       param_grid={'max_depth': [2, 9], 'learning_rate': [0.009, 0.05], 'n_estimators': [50, 100], 'subsample': [0.3, 0.6]},\n",
       "       pre_dispatch='2*n_jobs', refit=True, return_train_score=True,\n",
       "       scoring='accuracy', verbose=0)"
      ]
     },
     "execution_count": 300,
     "metadata": {},
     "output_type": "execute_result"
    }
   ],
   "source": [
    "# Performing GridSearch to find the best hyperparameters for the GB Classifier\n",
    "gb_parameters = {'max_depth': [2,9],\n",
    "                 'learning_rate': [0.009, 0.05],\n",
    "                  'n_estimators': [50,100],\n",
    "                  'subsample': [0.3, 0.6]\n",
    "                  }\n",
    "                  \n",
    "gb_search = GridSearchCV(estimator=gb, \n",
    "                           param_grid=gb_parameters,\n",
    "                           scoring='accuracy',\n",
    "                           n_jobs=-1)\n",
    "\n",
    "# Training the model\n",
    "gb_search.fit(X_train, y_train)"
   ]
  },
  {
   "cell_type": "code",
   "execution_count": 301,
   "metadata": {},
   "outputs": [
    {
     "data": {
      "text/plain": [
       "0.6518518518518519"
      ]
     },
     "execution_count": 301,
     "metadata": {},
     "output_type": "execute_result"
    }
   ],
   "source": [
    "# Best Score from the search\n",
    "gb_search.best_score_"
   ]
  },
  {
   "cell_type": "code",
   "execution_count": 302,
   "metadata": {},
   "outputs": [
    {
     "data": {
      "text/plain": [
       "{'learning_rate': 0.05, 'max_depth': 2, 'n_estimators': 100, 'subsample': 0.6}"
      ]
     },
     "execution_count": 302,
     "metadata": {},
     "output_type": "execute_result"
    }
   ],
   "source": [
    "# Best Paramters from the search\n",
    "gb_search.best_params_"
   ]
  },
  {
   "cell_type": "markdown",
   "metadata": {},
   "source": [
    "### Final Model"
   ]
  },
  {
   "cell_type": "markdown",
   "metadata": {},
   "source": [
    "- Built the Final model using Gradient Boosting Classifier\n",
    "- Generated Confusion Matrix\n",
    "- Calulcated Average CV score\n",
    "- Calculated Confidence Interval"
   ]
  },
  {
   "cell_type": "code",
   "execution_count": 324,
   "metadata": {},
   "outputs": [
    {
     "data": {
      "text/plain": [
       "GradientBoostingClassifier(criterion='friedman_mse', init=None,\n",
       "              learning_rate=0.009, loss='deviance', max_depth=9,\n",
       "              max_features='sqrt', max_leaf_nodes=None,\n",
       "              min_impurity_split=1e-07, min_samples_leaf=1,\n",
       "              min_samples_split=2, min_weight_fraction_leaf=0.0,\n",
       "              n_estimators=100, presort='auto', random_state=10,\n",
       "              subsample=0.6, verbose=0, warm_start=False)"
      ]
     },
     "execution_count": 324,
     "metadata": {},
     "output_type": "execute_result"
    }
   ],
   "source": [
    "# Building the final NB Classifier model \n",
    "gb = GradientBoostingClassifier(learning_rate=0.009,\n",
    "                                n_estimators=100,\n",
    "                                max_depth=9,\n",
    "                                max_features='sqrt',\n",
    "                                subsample=0.6,\n",
    "                                random_state=10)\n",
    "# Training the model\n",
    "gb.fit(X_train, y_train)"
   ]
  },
  {
   "cell_type": "code",
   "execution_count": 325,
   "metadata": {},
   "outputs": [
    {
     "data": {
      "text/plain": [
       "0.72881355932203384"
      ]
     },
     "execution_count": 325,
     "metadata": {},
     "output_type": "execute_result"
    }
   ],
   "source": [
    "# Checking Accuracy Score for the test set\n",
    "accuracy_score(y_test, gb.predict(X_test))"
   ]
  },
  {
   "cell_type": "code",
   "execution_count": 305,
   "metadata": {},
   "outputs": [
    {
     "data": {
      "text/plain": [
       "array([[10,  1,  0,  0,  0,  0,  0],\n",
       "       [ 0, 19,  1,  0,  0,  1,  1],\n",
       "       [ 0,  0,  6,  0,  0,  1,  0],\n",
       "       [ 0,  1,  0,  0,  0,  0,  1],\n",
       "       [ 0,  1,  0,  0,  0,  1,  0],\n",
       "       [ 0,  1,  3,  0,  0,  6,  0],\n",
       "       [ 2,  0,  2,  0,  0,  0,  1]])"
      ]
     },
     "execution_count": 305,
     "metadata": {},
     "output_type": "execute_result"
    }
   ],
   "source": [
    "# Checking Confusion Matrix for the test set\n",
    "confusion_matrix(y_test, gb.predict(X_test))"
   ]
  },
  {
   "cell_type": "markdown",
   "metadata": {},
   "source": [
    "### Cross Validation"
   ]
  },
  {
   "cell_type": "code",
   "execution_count": 326,
   "metadata": {},
   "outputs": [
    {
     "name": "stdout",
     "output_type": "stream",
     "text": [
      "Average CV Score:  0.712591667448\n"
     ]
    }
   ],
   "source": [
    "# Performing K-Fold Cross Validation\n",
    "scores = cross_val_score(gb, train_df, y, cv=10)\n",
    "print('Average CV Score: ', np.mean(scores))"
   ]
  },
  {
   "cell_type": "code",
   "execution_count": 307,
   "metadata": {},
   "outputs": [
    {
     "name": "stdout",
     "output_type": "stream",
     "text": [
      "K-Fold CV Score is 0.700887 +/- 0.075758\n",
      "95 percent probability that the average score would always be between 0.625129 and 0.776645\n"
     ]
    }
   ],
   "source": [
    "mean_score = scores.mean()\n",
    "std_dev = scores.std()\n",
    "std_error = scores.std() / math.sqrt(scores.shape[0])\n",
    "ci = 2.262 * std_error\n",
    "lower_bound = mean_score - ci\n",
    "upper_bound = mean_score + ci\n",
    "\n",
    "print(\"K-Fold CV Score is %f +/- %f\" %(mean_score, ci))\n",
    "print(\"95 percent probability that the average score would always be between %f and %f\" %(lower_bound, upper_bound))"
   ]
  },
  {
   "cell_type": "markdown",
   "metadata": {},
   "source": [
    "### Final Predictions"
   ]
  },
  {
   "cell_type": "code",
   "execution_count": 327,
   "metadata": {
    "collapsed": true
   },
   "outputs": [],
   "source": [
    "# Making predictions using the Final Model\n",
    "predictions = gb.predict(test_df)"
   ]
  },
  {
   "cell_type": "code",
   "execution_count": 328,
   "metadata": {
    "collapsed": true
   },
   "outputs": [],
   "source": [
    "# Predicting the Religion for the Testing dataset\n",
    "submission = pd.DataFrame({'Country': test['country'], 'Predicted_Religion': predictions})\n",
    "submission.to_csv('flags_output.csv', index=False)"
   ]
  },
  {
   "cell_type": "code",
   "execution_count": null,
   "metadata": {
    "collapsed": true
   },
   "outputs": [],
   "source": []
  }
 ],
 "metadata": {
  "kernelspec": {
   "display_name": "Python 3",
   "language": "python",
   "name": "python3"
  },
  "language_info": {
   "codemirror_mode": {
    "name": "ipython",
    "version": 3
   },
   "file_extension": ".py",
   "mimetype": "text/x-python",
   "name": "python",
   "nbconvert_exporter": "python",
   "pygments_lexer": "ipython3",
   "version": "3.6.1"
  }
 },
 "nbformat": 4,
 "nbformat_minor": 2
}
